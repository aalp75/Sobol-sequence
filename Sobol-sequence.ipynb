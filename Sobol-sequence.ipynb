{
 "cells": [
  {
   "cell_type": "code",
   "execution_count": 309,
   "id": "bfe30b5f",
   "metadata": {},
   "outputs": [],
   "source": [
    "import random\n",
    "import time\n",
    "import math\n",
    "import matplotlib.pyplot as plt\n",
    "import numpy as np"
   ]
  },
  {
   "cell_type": "code",
   "execution_count": null,
   "id": "c2ed4dc3",
   "metadata": {},
   "outputs": [],
   "source": [
    "# primitive_polynomials_data = [1,3,7,11,13,19,25,37,59,47,61,55,41,67,97,91,109,103,115,131]\n",
    "# print(len(primitive_polynomials_data))\n",
    "# m_value_data = [[1],[1],[1,1],[1,3,7],[1,1,5],[1,3,1,1],[1,1,3,7],[1,3,3,9,9],[1,3,7,13,3],[1,1,5,11,27],[1,3,5,1,15],\\\n",
    "# [1,1,7,3,29],[1,3,7,7,21],[1,1,1,9,23,37],[1,3,3,5,19,33],[1,1,3,13,11,7],[1,1,7,13,25,5],[1,3,5,11,7,11],[1,1,1,3,13,39],\\\n",
    "# [1,3,1,15,17,63,13]]\n",
    "# print(len(m_value_data))"
   ]
  },
  {
   "cell_type": "code",
   "execution_count": 467,
   "id": "e7ece2fd",
   "metadata": {},
   "outputs": [],
   "source": [
    "#Hyperparameters\n",
    "MAX_DIM = 21201"
   ]
  },
  {
   "cell_type": "markdown",
   "id": "fbc236f3",
   "metadata": {},
   "source": [
    "### Utility functions"
   ]
  },
  {
   "cell_type": "code",
   "execution_count": 468,
   "id": "bba0e152",
   "metadata": {},
   "outputs": [],
   "source": [
    "def evaluate_halton(a,b=2):\n",
    "    ans = 0\n",
    "    n = len(a)\n",
    "    for i in range(n):\n",
    "        ans = ans * b + a[i]\n",
    "    return ans\n",
    "\n",
    "def binary_array(n,b=2):\n",
    "    if n == 0:\n",
    "        return [0]\n",
    "    ans = []\n",
    "    while n > 0:\n",
    "        i, remainder = divmod(n, b)\n",
    "        ans.append(remainder)\n",
    "        n = n//2\n",
    "    ans.reverse()\n",
    "    return ans\n",
    "\n",
    "def rightmost_zero_index(a):\n",
    "    n = len(a)\n",
    "    index = n\n",
    "    for i in range(n):\n",
    "        if a[i] == 0:\n",
    "            index = n - 1 - i \n",
    "    return index\n",
    "\n",
    "def graycode2(n):\n",
    "    if n==0:\n",
    "        return [0]\n",
    "    ans = n ^ int(n/2.0)\n",
    "    return binary_array(ans)\n",
    "\n",
    "def next_bary(a_in,b = 2):\n",
    "    m = len(a_in)\n",
    "    a_out = [0 for i in range(m)]\n",
    "    carry = True\n",
    "    for i in range(m):\n",
    "        if carry:\n",
    "            if (a_in[m-1-i] == b-1):\n",
    "                a_out[m-1-i] = 0\n",
    "            else:\n",
    "                a_out[m-1-i] = a_in[m-1-i]+1\n",
    "                carry = False\n",
    "        else:\n",
    "            a_out[m-1-i] = a_in[m-1-i]\n",
    "    if carry:\n",
    "        a_out = [1] + a_out\n",
    "    return a_out"
   ]
  },
  {
   "cell_type": "markdown",
   "id": "c4dd771c",
   "metadata": {},
   "source": [
    "### Class Sobol"
   ]
  },
  {
   "cell_type": "code",
   "execution_count": 478,
   "id": "406d4dcc",
   "metadata": {},
   "outputs": [],
   "source": [
    "class sobol_generator():\n",
    "    \n",
    "    def __init__(self,d):\n",
    "        \n",
    "        if (d > MAX_DIM):\n",
    "            print(\"Error: Maximum dimension is %d\" %(MAX_DIM))\n",
    "            return\n",
    "    \n",
    "        self.dim = d\n",
    "        self.primitive_polynomials_data = []\n",
    "        self.m_value_data = []\n",
    "        self.load()\n",
    "    \n",
    "    def sobol_mat(self, c_vec, m_init, r):\n",
    "        q = len(c_vec)-1\n",
    "        if q == 0 :\n",
    "            V = np.identity(r)\n",
    "            return V\n",
    "        V = np.zeros((r,r))\n",
    "        m_vec = [0 for i in range(r)]\n",
    "        m_vec[:len(m_init)] = m_init\n",
    "        m_state=m_init\n",
    "        for i in range(q,r):\n",
    "            m_next = 0\n",
    "            for j in range(q):\n",
    "                m_next = m_next ^ (pow(2,j+1) * c_vec[j] * m_state[q-1-j])\n",
    "            m_next = m_next ^ m_state[0]\n",
    "            m_vec[i] = m_next\n",
    "            m_state = m_state[1:q+1] + [m_next]\n",
    "        for j in range(r):\n",
    "            m_bin = binary_array(m_vec[j],b=2)\n",
    "            k = len(m_bin)\n",
    "            for i in range(k):\n",
    "                V[j-i,j]=m_bin[k-i-1]\n",
    "        return V\n",
    "    \n",
    "    def sobol_pts(self,n_pts):\n",
    "        c_time = time.time()\n",
    "        r_max = 1+int(math.log(n_pts)/math.log(2))\n",
    "        P = np.zeros((self.dim,n_pts))\n",
    "        y = np.zeros((r_max,self.dim))\n",
    "        a = [0]\n",
    "        V = np.zeros((self.dim,r_max,r_max))\n",
    "        for i in range(self.dim):\n",
    "            q = len(self.m_value_data[i])\n",
    "            V[i] = self.sobol_mat(self.primitive_polynomials_data[i],self.m_value_data[i],r_max)\n",
    "        b_pwrs = []\n",
    "        for i in range(r_max):\n",
    "            b_pwrs.append(pow(1/2,i+1))\n",
    "\n",
    "        print(\"To load the matrix we needed: %.3f seconds\" %(time.time() - c_time))\n",
    "        c_time = time.time()\n",
    "        for k in range(n_pts):\n",
    "\n",
    "            l = rightmost_zero_index(a)\n",
    "            a = next_bary(a,2)\n",
    "\n",
    "            y = (y + V[:,:,l].T)%2\n",
    "\n",
    "            P[:,k] = P[:,k] + np.dot(b_pwrs,y)\n",
    "\n",
    "        print(\"To generate the sample we needed: %.3f seconds\" %(time.time() - c_time))\n",
    "        return P\n",
    "    \n",
    "    def sample(self,n_pts):\n",
    "        return self.sobol_pts(n_pts)\n",
    "        \n",
    "\n",
    "    def load(self):\n",
    "        self.primitive_polynomials_data = [[1],[1,1]]\n",
    "        self.m_value_data = [[],[1]]\n",
    "        my_data = np.genfromtxt('new-joe-kuo-6-21201.csv', delimiter=';',dtype=int)\n",
    "        for i in range(3,21202):\n",
    "            s = my_data[i,1]\n",
    "\n",
    "            polynome_add = binary_array(my_data[i,2])\n",
    "            while (len(polynome_add) < s-1):\n",
    "                 polynome_add = [0] + polynome_add\n",
    "            polynome_add = [1] + polynome_add + [1]\n",
    "            m_add = []\n",
    "            for j in range(s):\n",
    "                m_add.append(my_data[i,3+j])\n",
    "            self.primitive_polynomials_data.append(polynome_add)\n",
    "            self.m_value_data.append(m_add)\n",
    "    "
   ]
  },
  {
   "cell_type": "markdown",
   "id": "e4757369",
   "metadata": {},
   "source": [
    "### Examples"
   ]
  },
  {
   "cell_type": "code",
   "execution_count": 489,
   "id": "389c6aa5",
   "metadata": {},
   "outputs": [
    {
     "name": "stdout",
     "output_type": "stream",
     "text": [
      "To load the matrix we needed: 0.087 seconds\n",
      "To generate the sample we needed: 0.534 seconds\n",
      "512\n"
     ]
    },
    {
     "data": {
      "text/plain": [
       "Text(0, 0.5, 'Dimension 2')"
      ]
     },
     "execution_count": 489,
     "metadata": {},
     "output_type": "execute_result"
    },
    {
     "data": {
      "image/png": "[encoded data removed]",
      "text/plain": [
       "<Figure size 432x288 with 1 Axes>"
      ]
     },
     "metadata": {
      "needs_background": "light"
     },
     "output_type": "display_data"
    }
   ],
   "source": [
    "sampler = sobol_generator(21201)\n",
    "sample = sampler.sample(512)\n",
    "print(len(sample[0]))\n",
    "plt.figure()\n",
    "plt.scatter(sample[0,:],sample[1,:])\n",
    "plt.title(\"Sobol sequence\")\n",
    "plt.xlabel(\"Dimension 1\")\n",
    "plt.ylabel(\"Dimension 2\")"
   ]
  },
  {
   "cell_type": "code",
   "execution_count": 491,
   "id": "e83667f6",
   "metadata": {},
   "outputs": [
    {
     "name": "stdout",
     "output_type": "stream",
     "text": [
      "To load the matrix we needed: 0.931 seconds\n",
      "To generate the sample we needed: 7.003 seconds\n",
      "512\n"
     ]
    },
    {
     "data": {
      "text/plain": [
       "Text(0, 0.5, 'Dimension 10764')"
      ]
     },
     "execution_count": 491,
     "metadata": {},
     "output_type": "execute_result"
    },
    {
     "data": {
      "image/png": "[encoded data removed]",
      "text/plain": [
       "<Figure size 432x288 with 1 Axes>"
      ]
     },
     "metadata": {
      "needs_background": "light"
     },
     "output_type": "display_data"
    }
   ],
   "source": [
    "sampler = sobol_generator(21201)\n",
    "sample = sampler.sample(512)\n",
    "print(len(sample[0]))\n",
    "plt.figure()\n",
    "plt.scatter(sample[9783,:],sample[10764,:])\n",
    "plt.title(\"Sobol sequence\")\n",
    "plt.xlabel(\"Dimension 9784\")\n",
    "plt.ylabel(\"Dimension 10764\")"
   ]
  },
  {
   "cell_type": "code",
   "execution_count": null,
   "id": "0785d94a",
   "metadata": {},
   "outputs": [],
   "source": []
  }
 ],
 "metadata": {
  "kernelspec": {
   "display_name": "Python 3 (ipykernel)",
   "language": "python",
   "name": "python3"
  },
  "language_info": {
   "codemirror_mode": {
    "name": "ipython",
    "version": 3
   },
   "file_extension": ".py",
   "mimetype": "text/x-python",
   "name": "python",
   "nbconvert_exporter": "python",
   "pygments_lexer": "ipython3",
   "version": "3.9.7"
  }
 },
 "nbformat": 4,
 "nbformat_minor": 5
}
